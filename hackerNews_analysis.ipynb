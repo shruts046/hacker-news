{
 "cells": [
  {
   "cell_type": "markdown",
   "metadata": {},
   "source": [
    "Title: Unveiling Hacker News Post Engagement\n",
    "\n",
    "Introduction:\n",
    "Navigating the dynamic landscape of Hacker News, a bustling platform for tech enthusiasts. Mission is to extract valuable insights from a curated dataset of Hacker News submissions. By blending string manipulation, object-oriented programming, and time analysis, Unravel user engagement patterns with posts.\n",
    "\n",
    "Hacker News, initiated by Y Combinator, is a haven for diverse posts, ranging from queries (\"Ask HN\") to showcases (\"Show HN\"). Focus lies in comparing these categories in terms of average comments and investigating whether post creation time influences engagement.\n",
    "\n",
    "Comparing Engagement: Discern if \"Ask HN\" or \"Show HN\" posts attract more comments on average, shedding light on user preferences.\n",
    "\n",
    "Time's Impact: Explore whether post creation time correlates with the average comments received, revealing temporal engagement trends."
   ]
  },
  {
   "cell_type": "code",
   "execution_count": 40,
   "metadata": {},
   "outputs": [
    {
     "name": "stdout",
     "output_type": "stream",
     "text": [
      "Requirement already satisfied: pandas in c:\\users\\agraw\\appdata\\local\\programs\\python\\python39\\lib\\site-packages (2.0.3)\n",
      "Requirement already satisfied: pytz>=2020.1 in c:\\users\\agraw\\appdata\\local\\programs\\python\\python39\\lib\\site-packages (from pandas) (2023.3)\n",
      "Requirement already satisfied: python-dateutil>=2.8.2 in c:\\users\\agraw\\appdata\\roaming\\python\\python39\\site-packages (from pandas) (2.8.2)\n",
      "Requirement already satisfied: numpy>=1.20.3 in c:\\users\\agraw\\appdata\\local\\programs\\python\\python39\\lib\\site-packages (from pandas) (1.25.2)\n",
      "Requirement already satisfied: tzdata>=2022.1 in c:\\users\\agraw\\appdata\\local\\programs\\python\\python39\\lib\\site-packages (from pandas) (2023.3)\n",
      "Requirement already satisfied: six>=1.5 in c:\\users\\agraw\\appdata\\roaming\\python\\python39\\site-packages (from python-dateutil>=2.8.2->pandas) (1.16.0)\n",
      "Note: you may need to restart the kernel to use updated packages.\n"
     ]
    },
    {
     "name": "stderr",
     "output_type": "stream",
     "text": [
      "WARNING: You are using pip version 21.1.3; however, version 23.2.1 is available.\n",
      "You should consider upgrading via the 'c:\\Users\\agraw\\AppData\\Local\\Programs\\Python\\Python39\\python.exe -m pip install --upgrade pip' command.\n"
     ]
    }
   ],
   "source": [
    "pip install pandas\n"
   ]
  },
  {
   "cell_type": "code",
   "execution_count": 41,
   "metadata": {},
   "outputs": [],
   "source": [
    "import pandas as pd"
   ]
  },
  {
   "cell_type": "code",
   "execution_count": 42,
   "metadata": {},
   "outputs": [],
   "source": [
    "hn_df = pd.read_csv('hacker_news_dataset.csv')"
   ]
  },
  {
   "cell_type": "code",
   "execution_count": 43,
   "metadata": {},
   "outputs": [],
   "source": [
    "hn = hn_df.values.tolist()"
   ]
  },
  {
   "cell_type": "code",
   "execution_count": 44,
   "metadata": {},
   "outputs": [
    {
     "name": "stdout",
     "output_type": "stream",
     "text": [
      "[12224879, 'Interactive Dynamic Video', 'http://www.interactivedynamicvideo.com/', 386, 52, 'ne0phyte', '8/4/2016 11:52']\n",
      "[10975351, 'How to Use Open Source and Shut the Fuck Up at the Same Time', 'http://hueniverse.com/2016/01/26/how-to-use-open-source-and-shut-the-fuck-up-at-the-same-time/', 39, 10, 'josep2', '1/26/2016 19:30']\n",
      "[11964716, \"Florida DJs May Face Felony for April Fools' Water Joke\", 'http://www.thewire.com/entertainment/2013/04/florida-djs-april-fools-water-joke/63798/', 2, 1, 'vezycash', '6/23/2016 22:20']\n",
      "[11919867, 'Technology ventures: From Idea to Enterprise', 'https://www.amazon.com/Technology-Ventures-Enterprise-Thomas-Byers/dp/0073523429', 3, 1, 'hswarna', '6/17/2016 0:01']\n",
      "[10301696, 'Note by Note: The Making of Steinway L1037 (2007)', 'http://www.nytimes.com/2007/11/07/movies/07stein.html?_r=0', 8, 2, 'walterbell', '9/30/2015 4:12']\n"
     ]
    }
   ],
   "source": [
    "for row in hn[:5]:\n",
    "    print(row)"
   ]
  },
  {
   "cell_type": "code",
   "execution_count": 45,
   "metadata": {},
   "outputs": [],
   "source": [
    "headers = ['id', 'title', 'url', 'num_points', 'num_comments', 'author', 'created_at']"
   ]
  },
  {
   "cell_type": "code",
   "execution_count": 46,
   "metadata": {},
   "outputs": [
    {
     "data": {
      "text/plain": [
       "['id', 'title', 'url', 'num_points', 'num_comments', 'author', 'created_at']"
      ]
     },
     "execution_count": 46,
     "metadata": {},
     "output_type": "execute_result"
    }
   ],
   "source": [
    "headers"
   ]
  },
  {
   "cell_type": "code",
   "execution_count": 47,
   "metadata": {},
   "outputs": [],
   "source": [
    "ask_posts=[]\n",
    "show_posts=[]\n",
    "other_posts=[]"
   ]
  },
  {
   "cell_type": "code",
   "execution_count": 48,
   "metadata": {},
   "outputs": [],
   "source": [
    "for i in hn:\n",
    "    title=i[1]\n",
    "\n",
    "    if title.lower().startswith('ask hn'):\n",
    "        ask_posts.append(i)\n",
    "    elif title.lower().startswith('show hn'):\n",
    "        show_posts.append(i)\n",
    "    else:\n",
    "        other_posts.append(i)\n",
    "    "
   ]
  },
  {
   "cell_type": "code",
   "execution_count": 49,
   "metadata": {},
   "outputs": [],
   "source": [
    "len_ask_posts=len(ask_posts)\n",
    "len_show_posts=len(show_posts)\n",
    "len_other_posts=len(other_posts)"
   ]
  },
  {
   "cell_type": "code",
   "execution_count": 50,
   "metadata": {},
   "outputs": [
    {
     "name": "stdout",
     "output_type": "stream",
     "text": [
      "1744 1162 17194\n"
     ]
    }
   ],
   "source": [
    "print(len_ask_posts, len_show_posts, len_other_posts)"
   ]
  },
  {
   "cell_type": "code",
   "execution_count": 51,
   "metadata": {},
   "outputs": [
    {
     "name": "stdout",
     "output_type": "stream",
     "text": [
      "[12296411, 'Ask HN: How to improve my personal website?', nan, 2, 6, 'ahmedbaracat', '8/16/2016 9:55']\n",
      "[10610020, 'Ask HN: Am I the only one outraged by Twitter shutting down share counts?', nan, 28, 29, 'tkfx', '11/22/2015 13:43']\n",
      "[11610310, 'Ask HN: Aby recent changes to CSS that broke mobile?', nan, 1, 1, 'polskibus', '5/2/2016 10:14']\n",
      "[12210105, 'Ask HN: Looking for Employee #3 How do I do it?', nan, 1, 3, 'sph130', '8/2/2016 14:20']\n",
      "[10394168, 'Ask HN: Someone offered to buy my browser extension from me. What now?', nan, 28, 17, 'roykolak', '10/15/2015 16:38']\n"
     ]
    }
   ],
   "source": [
    "for i in ask_posts[:5]:\n",
    "    print(i)"
   ]
  },
  {
   "cell_type": "code",
   "execution_count": 52,
   "metadata": {},
   "outputs": [
    {
     "name": "stdout",
     "output_type": "stream",
     "text": [
      "[10627194, 'Show HN: Wio Link  ESP8266 Based Web of Things Hardware Development Platform', 'https://iot.seeed.cc', 26, 22, 'kfihihc', '11/25/2015 14:03']\n",
      "[10646440, 'Show HN: Something pointless I made', 'http://dn.ht/picklecat/', 747, 102, 'dhotson', '11/29/2015 22:46']\n",
      "[11590768, 'Show HN: Shanhu.io, a programming playground powered by e8vm', 'https://shanhu.io', 1, 1, 'h8liu', '4/28/2016 18:05']\n",
      "[12178806, 'Show HN: Webscope  Easy way for web developers to communicate with Clients', 'http://webscopeapp.com', 3, 3, 'fastbrick', '7/28/2016 7:11']\n",
      "[10872799, 'Show HN: GeoScreenshot  Easily test Geo-IP based web pages', 'https://www.geoscreenshot.com/', 1, 9, 'kpsychwave', '1/9/2016 20:45']\n"
     ]
    }
   ],
   "source": [
    "for i in show_posts[:5]:\n",
    "    print(i)"
   ]
  },
  {
   "cell_type": "code",
   "execution_count": 53,
   "metadata": {},
   "outputs": [],
   "source": [
    "sum_comments_ask=0\n",
    "for i in ask_posts:\n",
    "    comment=i[4]\n",
    "    sum_comments_ask +=comment"
   ]
  },
  {
   "cell_type": "code",
   "execution_count": 54,
   "metadata": {},
   "outputs": [
    {
     "data": {
      "text/plain": [
       "24483"
      ]
     },
     "execution_count": 54,
     "metadata": {},
     "output_type": "execute_result"
    }
   ],
   "source": [
    "sum_comments_ask"
   ]
  },
  {
   "cell_type": "code",
   "execution_count": 55,
   "metadata": {},
   "outputs": [],
   "source": [
    "sum_comments_show=0\n",
    "for i in show_posts:\n",
    "    comment=i[4]\n",
    "    sum_comments_show +=comment"
   ]
  },
  {
   "cell_type": "code",
   "execution_count": 56,
   "metadata": {},
   "outputs": [
    {
     "data": {
      "text/plain": [
       "11988"
      ]
     },
     "execution_count": 56,
     "metadata": {},
     "output_type": "execute_result"
    }
   ],
   "source": [
    "sum_comments_show"
   ]
  },
  {
   "cell_type": "code",
   "execution_count": 57,
   "metadata": {},
   "outputs": [],
   "source": [
    "avg_show_comments=0\n",
    "avg_ask_comments=0"
   ]
  },
  {
   "cell_type": "code",
   "execution_count": 58,
   "metadata": {},
   "outputs": [],
   "source": [
    "avg_show_comments = sum_comments_show/len(show_posts)\n",
    "avg_ask_comments = sum_comments_ask/len(ask_posts)"
   ]
  },
  {
   "cell_type": "code",
   "execution_count": 59,
   "metadata": {},
   "outputs": [
    {
     "name": "stdout",
     "output_type": "stream",
     "text": [
      "The Ask Posts with an average number of comments of 14.04 have recieved more comments than the Show Posts with an average number of comments of 10.32\n"
     ]
    }
   ],
   "source": [
    "if avg_show_comments>avg_show_comments:\n",
    "    print(f\"The Show Posts with an average number of comments of {avg_show_comments:.2f} have recieved more comments than the Ask Posts with an average number comments of {avg_ask_comments:.2f}\" )\n",
    "else:\n",
    "    print(f\"The Ask Posts with an average number of comments of {avg_ask_comments:.2f} have recieved more comments than the Show Posts with an average number of comments of {avg_show_comments:.2f}\")"
   ]
  },
  {
   "cell_type": "markdown",
   "metadata": {},
   "source": [
    "**Analysis: Do Ask HN or Show HN Posts Receive More Comments?**\n",
    "\n",
    "After conducting an analysis of the Hacker News dataset, found that \"Ask HN\" posts tend to receive more comments on average compared to \"Show HN\" posts.\n",
    "\n",
    "The average number of comments on \"Ask HN\" posts is 14.04, while the average number of comments on \"Show HN\" posts is 10.32. This difference in engagement suggests that the Hacker News community is more inclined to participate in discussions and provide feedback on posts that seek input or answers, as is often the case with \"Ask HN\" posts.\n",
    "\n",
    "This disparity highlights the interactive and collaborative nature of the \"Ask HN\" posts, where users actively contribute their insights, experiences, and opinions. On the other hand, \"Show HN\" posts, while still garnering attention, might have a different objective, such as showcasing projects or sharing interesting findings, leading to comparatively fewer comments.\n",
    "\n",
    "In conclusion, the data indicates that \"Ask HN\" posts tend to attract a higher average number of comments, underscoring the community's inclination to engage in meaningful discussions and share valuable information."
   ]
  },
  {
   "cell_type": "code",
   "execution_count": 60,
   "metadata": {},
   "outputs": [],
   "source": [
    "import datetime as dt"
   ]
  },
  {
   "cell_type": "code",
   "execution_count": 81,
   "metadata": {},
   "outputs": [
    {
     "name": "stdout",
     "output_type": "stream",
     "text": [
      "Hour: 0, Posts: 55, Comments: 447.0\n",
      "Hour: 1, Posts: 60, Comments: 683.0\n",
      "Hour: 2, Posts: 58, Comments: 1381.0\n",
      "Hour: 3, Posts: 54, Comments: 421.0\n",
      "Hour: 4, Posts: 47, Comments: 337.0\n",
      "Hour: 5, Posts: 46, Comments: 464.0\n",
      "Hour: 6, Posts: 44, Comments: 397.0\n",
      "Hour: 7, Posts: 34, Comments: 267.0\n",
      "Hour: 8, Posts: 48, Comments: 492.0\n",
      "Hour: 9, Posts: 45, Comments: 251.0\n",
      "Hour: 10, Posts: 59, Comments: 793.0\n",
      "Hour: 11, Posts: 58, Comments: 641.0\n",
      "Hour: 12, Posts: 73, Comments: 687.0\n",
      "Hour: 13, Posts: 85, Comments: 1253.0\n",
      "Hour: 14, Posts: 107, Comments: 1416.0\n",
      "Hour: 15, Posts: 116, Comments: 4477.0\n",
      "Hour: 16, Posts: 108, Comments: 1814.0\n",
      "Hour: 17, Posts: 100, Comments: 1146.0\n",
      "Hour: 18, Posts: 109, Comments: 1439.0\n",
      "Hour: 19, Posts: 110, Comments: 1188.0\n",
      "Hour: 20, Posts: 80, Comments: 1722.0\n",
      "Hour: 21, Posts: 109, Comments: 1745.0\n",
      "Hour: 22, Posts: 71, Comments: 479.0\n",
      "Hour: 23, Posts: 68, Comments: 543.0\n"
     ]
    }
   ],
   "source": [
    "counts_by_hour = {}\n",
    "comments_by_hour = {}\n",
    "for row in ask_posts:\n",
    "    date = dt.datetime.strptime(row[-1], '%m/%d/%Y %H:%M')\n",
    "    hour = date.hour\n",
    "    \n",
    "    if hour in counts_by_hour:\n",
    "        counts_by_hour[hour] +=1\n",
    "        comments_by_hour[hour] += float(row[4])\n",
    "        \n",
    "    else:\n",
    "        counts_by_hour[hour] = 1\n",
    "        comments_by_hour[hour] = float(row[4])\n",
    "counts_by_hour = dict(sorted(counts_by_hour.items()))\n",
    "comments_by_hour = dict(sorted(comments_by_hour.items()))\n",
    "# counts_by_hour={}\n",
    "# comments_by_hour={}\n",
    "\n",
    "# for i in ask_posts:\n",
    "#     date_str = i[0]\n",
    "#     date_dt = dt.datetime.strptime(date_str, \"%m/%d/%Y %H:%M\")\n",
    "#     hour = date_dt.strftime(\"%H\")  \n",
    "\n",
    "#     # Increment the counts and comments by hour\n",
    "#     if hour not in counts_by_hour:\n",
    "#         counts_by_hour[hour] = 1\n",
    "#         comments_by_hour[hour] = float(row[4])\n",
    "#     else:\n",
    "#         counts_by_hour[hour] += 1\n",
    "#         comments_by_hour[hour] +=float(row[4])\n",
    "        \n",
    "for hour, count in counts_by_hour.items():\n",
    "    print(f\"Hour: {hour}, Posts: {count}, Comments: {comments_by_hour[hour]}\")"
   ]
  },
  {
   "cell_type": "code",
   "execution_count": 82,
   "metadata": {},
   "outputs": [
    {
     "data": {
      "text/plain": [
       "{0: 55,\n",
       " 1: 60,\n",
       " 2: 58,\n",
       " 3: 54,\n",
       " 4: 47,\n",
       " 5: 46,\n",
       " 6: 44,\n",
       " 7: 34,\n",
       " 8: 48,\n",
       " 9: 45,\n",
       " 10: 59,\n",
       " 11: 58,\n",
       " 12: 73,\n",
       " 13: 85,\n",
       " 14: 107,\n",
       " 15: 116,\n",
       " 16: 108,\n",
       " 17: 100,\n",
       " 18: 109,\n",
       " 19: 110,\n",
       " 20: 80,\n",
       " 21: 109,\n",
       " 22: 71,\n",
       " 23: 68}"
      ]
     },
     "execution_count": 82,
     "metadata": {},
     "output_type": "execute_result"
    }
   ],
   "source": [
    "counts_by_hour"
   ]
  },
  {
   "cell_type": "code",
   "execution_count": 83,
   "metadata": {},
   "outputs": [
    {
     "data": {
      "text/plain": [
       "{0: 447.0,\n",
       " 1: 683.0,\n",
       " 2: 1381.0,\n",
       " 3: 421.0,\n",
       " 4: 337.0,\n",
       " 5: 464.0,\n",
       " 6: 397.0,\n",
       " 7: 267.0,\n",
       " 8: 492.0,\n",
       " 9: 251.0,\n",
       " 10: 793.0,\n",
       " 11: 641.0,\n",
       " 12: 687.0,\n",
       " 13: 1253.0,\n",
       " 14: 1416.0,\n",
       " 15: 4477.0,\n",
       " 16: 1814.0,\n",
       " 17: 1146.0,\n",
       " 18: 1439.0,\n",
       " 19: 1188.0,\n",
       " 20: 1722.0,\n",
       " 21: 1745.0,\n",
       " 22: 479.0,\n",
       " 23: 543.0}"
      ]
     },
     "execution_count": 83,
     "metadata": {},
     "output_type": "execute_result"
    }
   ],
   "source": [
    "comments_by_hour"
   ]
  },
  {
   "cell_type": "code",
   "execution_count": 85,
   "metadata": {},
   "outputs": [
    {
     "name": "stdout",
     "output_type": "stream",
     "text": [
      "Hour: 0, Average Comments: 8.13\n",
      "Hour: 1, Average Comments: 11.38\n",
      "Hour: 2, Average Comments: 23.81\n",
      "Hour: 3, Average Comments: 7.80\n",
      "Hour: 4, Average Comments: 7.17\n",
      "Hour: 5, Average Comments: 10.09\n",
      "Hour: 6, Average Comments: 9.02\n",
      "Hour: 7, Average Comments: 7.85\n",
      "Hour: 8, Average Comments: 10.25\n",
      "Hour: 9, Average Comments: 5.58\n",
      "Hour: 10, Average Comments: 13.44\n",
      "Hour: 11, Average Comments: 11.05\n",
      "Hour: 12, Average Comments: 9.41\n",
      "Hour: 13, Average Comments: 14.74\n",
      "Hour: 14, Average Comments: 13.23\n",
      "Hour: 15, Average Comments: 38.59\n",
      "Hour: 16, Average Comments: 16.80\n",
      "Hour: 17, Average Comments: 11.46\n",
      "Hour: 18, Average Comments: 13.20\n",
      "Hour: 19, Average Comments: 10.80\n",
      "Hour: 20, Average Comments: 21.52\n",
      "Hour: 21, Average Comments: 16.01\n",
      "Hour: 22, Average Comments: 6.75\n",
      "Hour: 23, Average Comments: 7.99\n"
     ]
    }
   ],
   "source": [
    "avg_by_hour = []\n",
    "for hour in comments_by_hour:  # Use the keys of the dictionary\n",
    "    average_comments = comments_by_hour[hour] / counts_by_hour[hour]\n",
    "    avg_by_hour.append([hour, average_comments])\n",
    "\n",
    "# Print the average number of comments per post for each hour\n",
    "for avg_hour, avg_comments in avg_by_hour:\n",
    "    print(f\"Hour: {avg_hour}, Average Comments: {avg_comments:.2f}\")"
   ]
  },
  {
   "cell_type": "code",
   "execution_count": 86,
   "metadata": {},
   "outputs": [],
   "source": [
    "swap_avg_by_hour=[]"
   ]
  },
  {
   "cell_type": "code",
   "execution_count": 87,
   "metadata": {},
   "outputs": [],
   "source": [
    "for i in avg_by_hour:\n",
    "    swap_avg_by_hour.append([i[1],i[0]])"
   ]
  },
  {
   "cell_type": "code",
   "execution_count": 88,
   "metadata": {},
   "outputs": [
    {
     "data": {
      "text/plain": [
       "[[8.127272727272727, 0],\n",
       " [11.383333333333333, 1],\n",
       " [23.810344827586206, 2],\n",
       " [7.796296296296297, 3],\n",
       " [7.170212765957447, 4],\n",
       " [10.08695652173913, 5],\n",
       " [9.022727272727273, 6],\n",
       " [7.852941176470588, 7],\n",
       " [10.25, 8],\n",
       " [5.5777777777777775, 9],\n",
       " [13.440677966101696, 10],\n",
       " [11.051724137931034, 11],\n",
       " [9.41095890410959, 12],\n",
       " [14.741176470588234, 13],\n",
       " [13.233644859813085, 14],\n",
       " [38.5948275862069, 15],\n",
       " [16.796296296296298, 16],\n",
       " [11.46, 17],\n",
       " [13.20183486238532, 18],\n",
       " [10.8, 19],\n",
       " [21.525, 20],\n",
       " [16.009174311926607, 21],\n",
       " [6.746478873239437, 22],\n",
       " [7.985294117647059, 23]]"
      ]
     },
     "execution_count": 88,
     "metadata": {},
     "output_type": "execute_result"
    }
   ],
   "source": [
    "swap_avg_by_hour"
   ]
  },
  {
   "cell_type": "code",
   "execution_count": 89,
   "metadata": {},
   "outputs": [],
   "source": [
    "sorted_swap=sorted(swap_avg_by_hour, reverse=True)"
   ]
  },
  {
   "cell_type": "code",
   "execution_count": 90,
   "metadata": {},
   "outputs": [
    {
     "data": {
      "text/plain": [
       "[[38.5948275862069, 15],\n",
       " [23.810344827586206, 2],\n",
       " [21.525, 20],\n",
       " [16.796296296296298, 16],\n",
       " [16.009174311926607, 21],\n",
       " [14.741176470588234, 13],\n",
       " [13.440677966101696, 10],\n",
       " [13.233644859813085, 14],\n",
       " [13.20183486238532, 18],\n",
       " [11.46, 17],\n",
       " [11.383333333333333, 1],\n",
       " [11.051724137931034, 11],\n",
       " [10.8, 19],\n",
       " [10.25, 8],\n",
       " [10.08695652173913, 5],\n",
       " [9.41095890410959, 12],\n",
       " [9.022727272727273, 6],\n",
       " [8.127272727272727, 0],\n",
       " [7.985294117647059, 23],\n",
       " [7.852941176470588, 7],\n",
       " [7.796296296296297, 3],\n",
       " [7.170212765957447, 4],\n",
       " [6.746478873239437, 22],\n",
       " [5.5777777777777775, 9]]"
      ]
     },
     "execution_count": 90,
     "metadata": {},
     "output_type": "execute_result"
    }
   ],
   "source": [
    "sorted_swap"
   ]
  },
  {
   "cell_type": "code",
   "execution_count": 96,
   "metadata": {},
   "outputs": [
    {
     "name": "stdout",
     "output_type": "stream",
     "text": [
      "15\n",
      "2\n",
      "20\n",
      "16\n",
      "21\n"
     ]
    }
   ],
   "source": [
    "for i in sorted_swap[:5]:\n",
    "    print(i[1])"
   ]
  },
  {
   "cell_type": "code",
   "execution_count": 97,
   "metadata": {},
   "outputs": [
    {
     "name": "stdout",
     "output_type": "stream",
     "text": [
      "Top 5 Hours for Ask Posts Comments\n",
      "15:00: 38.59 average comments per post\n",
      "02:00: 23.81 average comments per post\n",
      "20:00: 21.52 average comments per post\n",
      "16:00: 16.80 average comments per post\n",
      "21:00: 16.01 average comments per post\n"
     ]
    }
   ],
   "source": [
    "print(\"Top 5 Hours for Ask Posts Comments\")\n",
    "for i in sorted_swap[:5]:\n",
    "    avg_hour=dt.datetime.strptime(str(i[1]), '%H')\n",
    "    avg_hour_formatted=avg_hour.strftime('%H:%M')\n",
    "    avg_comments=i[0]\n",
    "    print(f\"{avg_hour_formatted}: {avg_comments:.2f} average comments per post\")"
   ]
  },
  {
   "cell_type": "markdown",
   "metadata": {},
   "source": [
    "**Key Insights on Post Creation Time for Hacker News Engagement**\n",
    "Optimal Posting Hours: Certain hours emerged as peak engagement times for Hacker News users. Specifically, posts created at around 15:00 (3:00 PM), 02:00 (2:00 AM), and 20:00 (8:00 PM) received the highest average comments per post. These hours could be strategically targeted for higher interaction.\n",
    "\n",
    "Local Time Considerations: The analysis was based on a specific time zone. To effectively leverage the insights, users should adjust posting times according to their target audience's local time zone for optimal impact.\n",
    "\n",
    "In conclusion, timing plays a crucial role in optimizing post engagement on Hacker News. By aligning post creation with peak engagement hours and considering the preferences of the Hacker News community, users can increase the likelihood of receiving comments and fostering meaningful discussions. However, it's essential to recognize that user behavior may vary due to individual preferences and external factors. Leveraging these insights, users can fine-tune their posting strategy to enhance their overall experience on the platform."
   ]
  },
  {
   "cell_type": "markdown",
   "metadata": {},
   "source": []
  }
 ],
 "metadata": {
  "kernelspec": {
   "display_name": "Python 3",
   "language": "python",
   "name": "python3"
  },
  "language_info": {
   "codemirror_mode": {
    "name": "ipython",
    "version": 3
   },
   "file_extension": ".py",
   "mimetype": "text/x-python",
   "name": "python",
   "nbconvert_exporter": "python",
   "pygments_lexer": "ipython3",
   "version": "3.9.6"
  },
  "orig_nbformat": 4
 },
 "nbformat": 4,
 "nbformat_minor": 2
}
